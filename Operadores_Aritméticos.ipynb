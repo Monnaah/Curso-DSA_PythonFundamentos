{
  "nbformat": 4,
  "nbformat_minor": 0,
  "metadata": {
    "colab": {
      "name": "Operadores Aritméticos.ipynb",
      "provenance": [],
      "include_colab_link": true
    },
    "kernelspec": {
      "name": "python3",
      "display_name": "Python 3"
    }
  },
  "cells": [
    {
      "cell_type": "markdown",
      "metadata": {
        "id": "view-in-github",
        "colab_type": "text"
      },
      "source": [
        "<a href=\"https://colab.research.google.com/github/Monnaah/Curso-DSA_PythonFundamentos/blob/main/Operadores_Aritm%C3%A9ticos.ipynb\" target=\"_parent\"><img src=\"https://colab.research.google.com/assets/colab-badge.svg\" alt=\"Open In Colab\"/></a>"
      ]
    },
    {
      "cell_type": "markdown",
      "metadata": {
        "id": "5sD7GjVVSSc5"
      },
      "source": [
        "# Introdução ao Python\n",
        "\n",
        "## Operadores Aritméticos\n",
        "\n",
        "Nesta aula, vou te mostrar quais são os operadores aritméticos do Python, além da sua ordem de precedência quando compondo uma expressão matemática.\n",
        "\n",
        "Os operadores aritméticos do Python são:\n",
        "\n",
        "* `+` Adição\n",
        "* `-` Subtração\n",
        "* `*` Multiplicação\n",
        "* `/` Divisão\n",
        "* `**` Exponenciação\n",
        "* `//` Divisão (resultado inteiro)"
      ]
    },
    {
      "cell_type": "code",
      "metadata": {
        "id": "8IwDiibkUF1o",
        "outputId": "efeab3a1-0a14-4a5c-8b84-2a1596531416",
        "colab": {
          "base_uri": "https://localhost:8080/"
        }
      },
      "source": [
        "# adição\n",
        "13+8"
      ],
      "execution_count": 1,
      "outputs": [
        {
          "output_type": "execute_result",
          "data": {
            "text/plain": [
              "21"
            ]
          },
          "metadata": {},
          "execution_count": 1
        }
      ]
    },
    {
      "cell_type": "code",
      "metadata": {
        "id": "hX-rwGYCWezE",
        "outputId": "393b1ab7-f263-45f8-c0f1-2dca11eaf0ea",
        "colab": {
          "base_uri": "https://localhost:8080/"
        }
      },
      "source": [
        "# subtração\n",
        "29 - 10"
      ],
      "execution_count": 2,
      "outputs": [
        {
          "output_type": "execute_result",
          "data": {
            "text/plain": [
              "19"
            ]
          },
          "metadata": {},
          "execution_count": 2
        }
      ]
    },
    {
      "cell_type": "code",
      "metadata": {
        "id": "difWa1hYWe8G",
        "outputId": "e86500c7-ad2b-49f6-8c12-bb8ba47ec8b6",
        "colab": {
          "base_uri": "https://localhost:8080/"
        }
      },
      "source": [
        "# multiplicação\n",
        "5*7"
      ],
      "execution_count": 3,
      "outputs": [
        {
          "output_type": "execute_result",
          "data": {
            "text/plain": [
              "35"
            ]
          },
          "metadata": {},
          "execution_count": 3
        }
      ]
    },
    {
      "cell_type": "code",
      "metadata": {
        "id": "aS_2zy7EWfGS",
        "outputId": "9f415e10-7331-490b-c285-74126bf5276e",
        "colab": {
          "base_uri": "https://localhost:8080/"
        }
      },
      "source": [
        "# divisão\n",
        "43 / 9"
      ],
      "execution_count": 4,
      "outputs": [
        {
          "output_type": "execute_result",
          "data": {
            "text/plain": [
              "4.777777777777778"
            ]
          },
          "metadata": {},
          "execution_count": 4
        }
      ]
    },
    {
      "cell_type": "code",
      "metadata": {
        "id": "bSJLtcQUWfQJ",
        "outputId": "9043e21a-3d6d-42be-8b6b-77d7b9e5ef87",
        "colab": {
          "base_uri": "https://localhost:8080/"
        }
      },
      "source": [
        "# exponenciação\n",
        "5 ** 3"
      ],
      "execution_count": 5,
      "outputs": [
        {
          "output_type": "execute_result",
          "data": {
            "text/plain": [
              "125"
            ]
          },
          "metadata": {},
          "execution_count": 5
        }
      ]
    },
    {
      "cell_type": "code",
      "metadata": {
        "id": "NmYClsMRWgvE",
        "outputId": "682788b7-1b04-4694-a54f-51cdab4aa659",
        "colab": {
          "base_uri": "https://localhost:8080/"
        }
      },
      "source": [
        "# divisão (resultado inteiro)\n",
        "44 // 9"
      ],
      "execution_count": 6,
      "outputs": [
        {
          "output_type": "execute_result",
          "data": {
            "text/plain": [
              "4"
            ]
          },
          "metadata": {},
          "execution_count": 6
        }
      ]
    },
    {
      "cell_type": "markdown",
      "metadata": {
        "id": "UIDcLOrxUhc2"
      },
      "source": [
        "## Ordem de precedência\n",
        "\n",
        "Se já faz um tempo desde o seu último contato com a matemática, vale a pena relembrarmos a ordem correta das operações matemáticas.\n",
        "\n",
        "$$\n",
        "\\begin{aligned}\n",
        "x & = 3 + 10 * 3 \\\\\n",
        "x & = 3 + (10 * 3) \\\\\n",
        "x & = 3 + 30 \\\\\n",
        "x & = 33\n",
        "\\end{aligned}\n",
        "$$\n"
      ]
    },
    {
      "cell_type": "code",
      "metadata": {
        "id": "mqoGe3Ov0MTa",
        "colab": {
          "base_uri": "https://localhost:8080/"
        },
        "outputId": "d67b0afc-c9db-4f4a-9159-a8f07f5d734c"
      },
      "source": [
        "10 - 4 * 2"
      ],
      "execution_count": 7,
      "outputs": [
        {
          "output_type": "execute_result",
          "data": {
            "text/plain": [
              "2"
            ]
          },
          "metadata": {},
          "execution_count": 7
        }
      ]
    },
    {
      "cell_type": "code",
      "metadata": {
        "id": "A-zS3HT3VaQ4",
        "outputId": "c967c439-7de1-4a45-8979-ff9e285e6bb4",
        "colab": {
          "base_uri": "https://localhost:8080/"
        }
      },
      "source": [
        "3 + 10 * 3"
      ],
      "execution_count": 8,
      "outputs": [
        {
          "output_type": "execute_result",
          "data": {
            "text/plain": [
              "33"
            ]
          },
          "metadata": {},
          "execution_count": 8
        }
      ]
    },
    {
      "cell_type": "markdown",
      "metadata": {
        "id": "z-5iRQaqW2rK"
      },
      "source": [
        "$$\n",
        "\\begin{aligned}\n",
        "x & = 5 + 9 - 2^2 + \\frac{9}{3} \\\\\n",
        "x & = 5 + 9 - 4 + \\frac{9}{3} \\\\\n",
        "x & = 5 + 9 - 4 + 3 \\\\\n",
        "x & = 14 - 4 + 3 \\\\\n",
        "x & = 10 + 3 \\\\\n",
        "x & = 13 \\\\\n",
        "\\end{aligned}\n",
        "$$\n",
        "\n"
      ]
    },
    {
      "cell_type": "code",
      "metadata": {
        "id": "kTZcYeg0YyLi",
        "outputId": "4d170da9-4537-4939-b559-ed857dcf175b",
        "colab": {
          "base_uri": "https://localhost:8080/"
        }
      },
      "source": [
        "5 + 9 - (2 ** 2) + (9 / 3)"
      ],
      "execution_count": 9,
      "outputs": [
        {
          "output_type": "execute_result",
          "data": {
            "text/plain": [
              "13.0"
            ]
          },
          "metadata": {},
          "execution_count": 9
        }
      ]
    },
    {
      "cell_type": "markdown",
      "metadata": {
        "id": "WR4ng26uVb-H"
      },
      "source": [
        "Expressões maiores podem confundir, então o segredo é anotar a correta ordem de execução das operações matemáticas:\n",
        "\n",
        "1. Parêntesis\n",
        "2. Expoentes\n",
        "3. Multiplicações e Divisões (esquerda para a direita)\n",
        "4. Somas e subtrações (esquerda para a direita)\n",
        "\n",
        "#### Exemplo 1\n",
        "\n",
        "Calcula a média simples das notas das 3 provas de matemática\n",
        "* Nota 1 = 8,5\n",
        "* Nota 2 = 9,2\n",
        "* Nota 3 = 7,5"
      ]
    },
    {
      "cell_type": "code",
      "metadata": {
        "id": "jhwL0H9IZaWN",
        "outputId": "84ea243a-0289-410a-ebde-04bfff7a5c7e",
        "colab": {
          "base_uri": "https://localhost:8080/"
        }
      },
      "source": [
        "(8.5 + 9.2 + 7.5) / 3\n"
      ],
      "execution_count": 10,
      "outputs": [
        {
          "output_type": "execute_result",
          "data": {
            "text/plain": [
              "8.4"
            ]
          },
          "metadata": {},
          "execution_count": 10
        }
      ]
    },
    {
      "cell_type": "markdown",
      "metadata": {
        "id": "NIjH5tqKaGrX"
      },
      "source": [
        "#### Exemplo 2\n",
        "\n",
        "Qual a área de \n",
        "\n",
        "* O volume de uma esfera é calculada por meio da expressão $V = \\frac{4}{3} \\pi r^3$.\n",
        "* Calcule o volume de uma esfera de 5 metros?"
      ]
    },
    {
      "cell_type": "code",
      "metadata": {
        "id": "RY1xwXd6ZxDl",
        "outputId": "93deef10-9534-469f-da7d-5a4b8d7e46d9",
        "colab": {
          "base_uri": "https://localhost:8080/"
        }
      },
      "source": [
        "(4 / 3) * 3.14 * (5)**3"
      ],
      "execution_count": 11,
      "outputs": [
        {
          "output_type": "execute_result",
          "data": {
            "text/plain": [
              "523.3333333333334"
            ]
          },
          "metadata": {},
          "execution_count": 11
        }
      ]
    },
    {
      "cell_type": "code",
      "metadata": {
        "id": "EZ8rnqrK1K0L"
      },
      "source": [
        ""
      ],
      "execution_count": 11,
      "outputs": []
    }
  ]
}