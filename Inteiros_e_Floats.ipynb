{
  "nbformat": 4,
  "nbformat_minor": 0,
  "metadata": {
    "colab": {
      "name": "Inteiros e Floats.ipynb",
      "provenance": [],
      "include_colab_link": true
    },
    "kernelspec": {
      "name": "python3",
      "display_name": "Python 3"
    }
  },
  "cells": [
    {
      "cell_type": "markdown",
      "metadata": {
        "id": "view-in-github",
        "colab_type": "text"
      },
      "source": [
        "<a href=\"https://colab.research.google.com/github/Monnaah/Curso-DSA_PythonFundamentos/blob/main/Inteiros_e_Floats.ipynb\" target=\"_parent\"><img src=\"https://colab.research.google.com/assets/colab-badge.svg\" alt=\"Open In Colab\"/></a>"
      ]
    },
    {
      "cell_type": "markdown",
      "metadata": {
        "id": "5sWZ2auRITdD"
      },
      "source": [
        "# Introdução ao Python\n",
        "\n",
        "## Inteiros e Floats\n",
        "\n",
        "Os números inteiros (como 5, 4, 33) são do tipo `int`, enquanto aqueles números que carregam uma parte fracional (como 5.5, 3.33, 3.14, 5.0) são do tipo `float`. No começo, lidar com tipos de números pode ser confuso, mas a prática vai fazer você entender.\n",
        "\n",
        "Para saber o tipo de uma variável, você pode usar a função `type`."
      ]
    },
    {
      "cell_type": "code",
      "metadata": {
        "id": "BOXAIT6WIerI",
        "colab": {
          "base_uri": "https://localhost:8080/"
        },
        "outputId": "7dbad031-879b-4978-f0bd-abfa96c40508"
      },
      "source": [
        "type(5)  # aqui o 5 é um inteiro"
      ],
      "execution_count": 1,
      "outputs": [
        {
          "output_type": "execute_result",
          "data": {
            "text/plain": [
              "int"
            ]
          },
          "metadata": {},
          "execution_count": 1
        }
      ]
    },
    {
      "cell_type": "code",
      "metadata": {
        "id": "b0K51PcpIqht",
        "colab": {
          "base_uri": "https://localhost:8080/"
        },
        "outputId": "98dbc627-7d2b-4e33-8069-19280085eb93"
      },
      "source": [
        "abc = 44.44\n",
        "type(abc)"
      ],
      "execution_count": 2,
      "outputs": [
        {
          "output_type": "execute_result",
          "data": {
            "text/plain": [
              "float"
            ]
          },
          "metadata": {},
          "execution_count": 2
        }
      ]
    },
    {
      "cell_type": "code",
      "metadata": {
        "id": "uHeeZGrLIrnq",
        "colab": {
          "base_uri": "https://localhost:8080/"
        },
        "outputId": "5c8cde41-e632-47ed-8709-9d236b828d13"
      },
      "source": [
        "type(5.0) # aqui o 5.0 é um float"
      ],
      "execution_count": 3,
      "outputs": [
        {
          "output_type": "execute_result",
          "data": {
            "text/plain": [
              "float"
            ]
          },
          "metadata": {},
          "execution_count": 3
        }
      ]
    },
    {
      "cell_type": "code",
      "metadata": {
        "id": "rpxJyY1DIscO",
        "colab": {
          "base_uri": "https://localhost:8080/"
        },
        "outputId": "b8acbcd4-335e-4ea6-d25c-a0592b023470"
      },
      "source": [
        "pi = 3.14\n",
        "type(pi)"
      ],
      "execution_count": 4,
      "outputs": [
        {
          "output_type": "execute_result",
          "data": {
            "text/plain": [
              "float"
            ]
          },
          "metadata": {},
          "execution_count": 4
        }
      ]
    },
    {
      "cell_type": "code",
      "metadata": {
        "id": "sgZw4KvSIt0_",
        "colab": {
          "base_uri": "https://localhost:8080/"
        },
        "outputId": "0c5e3527-dfc3-45e3-c450-0ba0ef44c609"
      },
      "source": [
        "3 / 3"
      ],
      "execution_count": 5,
      "outputs": [
        {
          "output_type": "execute_result",
          "data": {
            "text/plain": [
              "1.0"
            ]
          },
          "metadata": {},
          "execution_count": 5
        }
      ]
    },
    {
      "cell_type": "code",
      "metadata": {
        "id": "dfAPXlqXIu-g",
        "colab": {
          "base_uri": "https://localhost:8080/"
        },
        "outputId": "26d3dcd3-1165-485f-e95b-37ba8621f23b"
      },
      "source": [
        "# uma divisão SEMPRE vai retornar um float como resultado\n",
        "print(type(3 / 3))\n",
        "print(type(10.0 / 5))\n",
        "print(type(10.0 / 2.0))"
      ],
      "execution_count": 6,
      "outputs": [
        {
          "output_type": "stream",
          "name": "stdout",
          "text": [
            "<class 'float'>\n",
            "<class 'float'>\n",
            "<class 'float'>\n"
          ]
        }
      ]
    },
    {
      "cell_type": "markdown",
      "metadata": {
        "id": "1KpYHK8dIwO-"
      },
      "source": [
        "Existem momentos em que você vai querer converter um `float` em `int`. Isso pode ser feito com `int()`. O mesmo vale para a operação contrário, bastando indicar a variável dentro dos parênteses."
      ]
    },
    {
      "cell_type": "code",
      "metadata": {
        "id": "B4-evh-ZIyzs",
        "colab": {
          "base_uri": "https://localhost:8080/"
        },
        "outputId": "b62eb36d-1004-492f-e7aa-c186e9e33aa3"
      },
      "source": [
        "idade = 35.00\n",
        "type(idade)"
      ],
      "execution_count": 7,
      "outputs": [
        {
          "output_type": "execute_result",
          "data": {
            "text/plain": [
              "float"
            ]
          },
          "metadata": {},
          "execution_count": 7
        }
      ]
    },
    {
      "cell_type": "code",
      "metadata": {
        "id": "ttXnxK28I0YO",
        "colab": {
          "base_uri": "https://localhost:8080/",
          "height": 35
        },
        "outputId": "454afc55-5992-4e95-d901-c30df73914c1"
      },
      "source": [
        "# converter\n",
        "idade = int(idade)\n",
        "type(idade)"
      ],
      "execution_count": null,
      "outputs": [
        {
          "output_type": "execute_result",
          "data": {
            "text/plain": [
              "int"
            ]
          },
          "metadata": {
            "tags": []
          },
          "execution_count": 18
        }
      ]
    },
    {
      "cell_type": "code",
      "metadata": {
        "id": "j1aRHnLfI1wT",
        "colab": {
          "base_uri": "https://localhost:8080/"
        },
        "outputId": "ce2b58c2-cb84-4cc6-a46e-c695904613a4"
      },
      "source": [
        "int(3.14567890)"
      ],
      "execution_count": 8,
      "outputs": [
        {
          "output_type": "execute_result",
          "data": {
            "text/plain": [
              "3"
            ]
          },
          "metadata": {},
          "execution_count": 8
        }
      ]
    },
    {
      "cell_type": "code",
      "metadata": {
        "id": "Z4h-aj4rI2lY",
        "colab": {
          "base_uri": "https://localhost:8080/"
        },
        "outputId": "0b5e1e70-a156-46ba-c50a-8467e7967458"
      },
      "source": [
        "float(3)"
      ],
      "execution_count": 9,
      "outputs": [
        {
          "output_type": "execute_result",
          "data": {
            "text/plain": [
              "3.0"
            ]
          },
          "metadata": {},
          "execution_count": 9
        }
      ]
    },
    {
      "cell_type": "markdown",
      "metadata": {
        "id": "0TzMUj6xI3lY"
      },
      "source": [
        "Existe ainda uma opção quando eu quero realizar uma divisão, porém quero ficar apenas com a parte inteira de um número, descartando toda a parte fracionária. Essa operação pode ser feita usando `//`."
      ]
    },
    {
      "cell_type": "code",
      "metadata": {
        "id": "vodOe_VNI5k2",
        "colab": {
          "base_uri": "https://localhost:8080/"
        },
        "outputId": "673c6390-fef6-4a67-9f56-16fe64fe757c"
      },
      "source": [
        "print(11 / 3)  # divisão normal com /\n",
        "print(11 // 3) # divisão usando //"
      ],
      "execution_count": 10,
      "outputs": [
        {
          "output_type": "stream",
          "name": "stdout",
          "text": [
            "3.6666666666666665\n",
            "3\n"
          ]
        }
      ]
    }
  ]
}